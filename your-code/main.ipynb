{
 "cells": [
  {
   "cell_type": "markdown",
   "metadata": {},
   "source": [
    "In this exercise, we  will generate random numbers from the continuous disributions we learned in the lesson. There are two ways to generate random numbers:\n",
    "\n",
    "1. Using the numpy library \n",
    "1. using the Scipy library \n",
    "\n",
    "Use either or both of the lbraries in this exercise."
   ]
  },
  {
   "cell_type": "code",
   "execution_count": null,
   "metadata": {},
   "outputs": [],
   "source": [
    "import matplotlib.pyplot as plt\n",
    "import pandas as pd\n",
    "import numpy as np\n",
    "import math\n",
    "import seaborn as sns"
   ]
  },
  {
   "cell_type": "markdown",
   "metadata": {},
   "source": [
    "## Uniform Distribution\n",
    "\n",
    "To generate uniform random numbers between any two given values using scipy, we can either use the following code or the code that we have\n",
    "discussed in class:"
   ]
  },
  {
   "cell_type": "code",
   "execution_count": null,
   "metadata": {},
   "outputs": [],
   "source": [
    "from scipy.stats import uniform\n",
    "\n",
    "# Define the range\n",
    "a = 10  # Lower bound\n",
    "b = 20  # Upper bound\n",
    "\n",
    "# Generate 10 random numbers between a and b\n",
    "random_numbers = uniform.rvs(loc=a, scale=b-a, size=10)\n",
    "\n",
    "print(\"Random Numbers:\", random_numbers)"
   ]
  },
  {
   "cell_type": "markdown",
   "metadata": {},
   "source": [
    "**Your task:**\n",
    "\n",
    "1. Based on the code above, write a function that generates uniformly distributed random numbers. There are several requirements for your function:\n",
    "    * It should accept 3 parameters: \n",
    "        * `bottom` - the lower boundary of the generated numbers\n",
    "        * `ceiling` - the upper boundary of the generated numbers\n",
    "        * `count` - how many numbers to generate\n",
    "    * It should return an array of uniformly distributed random numbers\n",
    "\n",
    "1. Call your function with 2 sets of params below:\n",
    "    * bottom=10, ceiling=15, count=100\n",
    "    * bottom=10, ceiling=60, count=1,000\n",
    "\n",
    "1. Plot the uniform distributions generated above using histograms, where x axis is the value and y axis is the count. Let the histogram's number of bins be 10.\n",
    "\n",
    "Your output should look like below:\n",
    "\n",
    "![uniform distribution](ud.png)"
   ]
  },
  {
   "cell_type": "code",
   "execution_count": null,
   "metadata": {},
   "outputs": [],
   "source": [
    "def generate_uniform_random_numbers(bottom, ceiling, count):\n",
    "    \"\"\"\n",
    "    Generate uniformly distributed random numbers.\n",
    "\n",
    "    Arg(s):\n",
    "    - bottom (float): Lower boundary of the range.\n",
    "    - ceiling (float): Upper boundary of the range.\n",
    "    - count (int): Number of random numbers to generate.\n",
    "\n",
    "    Returns:\n",
    "    - numpy.ndarray: Array of uniformly distributed random numbers.\n",
    "    \"\"\"\n",
    "    return np.random.uniform(bottom, ceiling, count)"
   ]
  },
  {
   "cell_type": "code",
   "execution_count": null,
   "metadata": {},
   "outputs": [],
   "source": [
    "# Call the function with the specified parameters\n",
    "set_1 = generate_uniform_random_numbers(10, 15, 100)\n",
    "set_2 = generate_uniform_random_numbers(10, 60, 1000)"
   ]
  },
  {
   "cell_type": "code",
   "execution_count": null,
   "metadata": {},
   "outputs": [],
   "source": [
    "# Plot histograms\n",
    "plt.figure(figsize=(8, 4))\n",
    "\n",
    "# Histogram for the first set\n",
    "plt.subplot(1, 2, 1)\n",
    "plt.hist(set_1, bins=10)\n",
    "plt.title(\"Uniform Distribution (10, 15)\")\n",
    "plt.xlabel(\"Value\")\n",
    "plt.ylabel(\"Count\")\n",
    "plt.xlim(10, 15)\n",
    "\n",
    "# Histogram for the second set\n",
    "plt.subplot(1, 2, 2)\n",
    "plt.hist(set_2, bins=10)\n",
    "plt.title(\"Uniform Distribution (10, 60)\")\n",
    "plt.xlabel(\"Value\")\n",
    "plt.xlim(10, 60)\n",
    "\n",
    "# Remove the left ticks for the second plot\n",
    "plt.gca().yaxis.set_ticklabels([])\n",
    "\n",
    "# Show the plots\n",
    "plt.tight_layout()\n",
    "plt.show()"
   ]
  },
  {
   "cell_type": "markdown",
   "metadata": {},
   "source": [
    "How are the two distributions different?"
   ]
  },
  {
   "cell_type": "markdown",
   "metadata": {},
   "source": [
    "- The first distribution has a more uneven pattern with noticeable peaks and dips, indicating variability in the frequency of values within its range.\n",
    "- The second distribution appears flatter, suggesting a more uniform distribution of values across its range.\n",
    "\n",
    "In conclusione, the first distribution is a narrow, uneven dataset, while the second distribution is broader and more uniform."
   ]
  },
  {
   "cell_type": "markdown",
   "metadata": {},
   "source": [
    "## Normal Distribution\n",
    "\n",
    "1. In the same way in the Uniform Distribution challenge, write a function that generates normally distributed random numbers.\n",
    "1. Generate 1,000 normally distributed numbers with the average of 10 and standard deviation of 1\n",
    "1. Generate 1,000 normally distributed numbers with the average of 10 and standard deviation of 50\n",
    "2. Plot the distributions of the data generated.\n",
    "\n",
    "Expected output:\n",
    "\n",
    "![normal distribution](nd.png)"
   ]
  },
  {
   "cell_type": "code",
   "execution_count": null,
   "metadata": {},
   "outputs": [],
   "source": [
    "from scipy.stats import norm "
   ]
  },
  {
   "cell_type": "code",
   "execution_count": null,
   "metadata": {},
   "outputs": [],
   "source": [
    "def generate_normal_distribution(mean, std_dev, size):\n",
    "    \"\"\"\n",
    "    Generate a normal distribution with the specified mean, standard deviation, and size.\n",
    "    \"\"\"\n",
    "    return np.random.normal(loc=mean, scale=std_dev, size=size)"
   ]
  },
  {
   "cell_type": "code",
   "execution_count": null,
   "metadata": {},
   "outputs": [],
   "source": [
    "# Generate 1,000 normally distributed numbers\n",
    "set_1 = generate_normal_distribution(mean=10, std_dev=1, size=1000)\n",
    "set_2 = generate_normal_distribution(mean=10, std_dev=50, size=1000)"
   ]
  },
  {
   "cell_type": "code",
   "execution_count": null,
   "metadata": {},
   "outputs": [],
   "source": [
    "# Plot histograms\n",
    "plt.figure(figsize=(12, 5))\n",
    "\n",
    "# Histogram for the first set\n",
    "plt.subplot(1, 2, 1)\n",
    "plt.hist(set_1, bins=30, density=True, label=\"Histogram\")\n",
    "\n",
    "# Fit the data to a normal distribution and compute the PDF\n",
    "mean_1, std_1 = norm.fit(set_1)  # Get the mean and standard deviation\n",
    "x_1 = np.linspace(set_1.min(), set_1.max(), 1000)  # Generate x values\n",
    "pdf_1 = norm.pdf(x_1, mean_1, std_1)  # Calculate the PDF\n",
    "\n",
    "# Plot the PDF as a line\n",
    "plt.plot(x_1, pdf_1, 'r-', label=f\"Normal Fit (Mean={mean_1:.2f}, Std={std_1:.2f})\")\n",
    "plt.title(\"Normal Distribution (Mean=10, StdDev=1)\")\n",
    "plt.xlabel(\"Value\")\n",
    "plt.ylabel(\"Density\")\n",
    "\n",
    "# Histogram for the second set\n",
    "plt.subplot(1, 2, 2)\n",
    "plt.hist(set_2, bins=30, density=True, label=\"Histogram\")\n",
    "\n",
    "# Fit the data to a normal distribution and compute the PDF\n",
    "mean_2, std_2 = norm.fit(set_2)  # Get the mean and standard deviation\n",
    "x_2 = np.linspace(set_2.min(), set_2.max(), 1000)  # Generate x values\n",
    "pdf_2 = norm.pdf(x_2, mean_2, std_2)  # Calculate the PDF\n",
    "\n",
    "# Plot the PDF as a line\n",
    "plt.plot(x_2, pdf_2, 'r-', label=f\"Normal Fit (Mean={mean_2:.2f}, Std={std_2:.2f})\")\n",
    "plt.title(\"Normal Distribution (Mean=10, StdDev=50)\")\n",
    "plt.xlabel(\"Value\")\n",
    "\n",
    "# Adjust layout and show plot\n",
    "plt.tight_layout()\n",
    "plt.show()"
   ]
  },
  {
   "cell_type": "markdown",
   "metadata": {},
   "source": [
    "How are the two distributions different?"
   ]
  },
  {
   "cell_type": "markdown",
   "metadata": {
    "vscode": {
     "languageId": "raw"
    }
   },
   "source": [
    "#### Left Distribution: \n",
    "- Has a standard deviation of 1, which means the data points are tightly clustered around the mean (10). This creates a sharp and narrow bell shape.\n",
    "- The curve is taller because more data points are concentrated close to the mean.\n",
    "- Represents a dataset with low variability, as most values are close to the mean.\n",
    "#### Right Distribution: \n",
    "- Has a standard deviation of 50, which causes the data points to spread widely around the mean (10). The bell shape is much broader and flatter.\n",
    "- The curve is shorter because the data points are spread over a larger range, reducing the frequency density near the mean.\n",
    "- Represents a dataset with high variability, where values deviate significantly from the mean.\n",
    "#### Conclusion:\n",
    "The left distribution has low variability (narrow bell shape), while the right distribution has high variability (broad bell shape). Both share the same mean but differ greatly in how the data points are spread around it."
   ]
  },
  {
   "cell_type": "markdown",
   "metadata": {},
   "source": [
    "## Normal Distribution of Real Data\n",
    "\n",
    "In this challenge we are going to take a look the real data. We will use vehicles.csv file for this exercise"
   ]
  },
  {
   "cell_type": "code",
   "execution_count": null,
   "metadata": {},
   "outputs": [],
   "source": [
    "df = pd.read_csv('vehicles.csv')"
   ]
  },
  {
   "cell_type": "markdown",
   "metadata": {},
   "source": [
    "First import vehicles.csv.\n",
    "Then plot the histograms for the following variables:\n",
    "\n",
    "1. Fuel Barrels/Year"
   ]
  },
  {
   "cell_type": "code",
   "execution_count": null,
   "metadata": {},
   "outputs": [],
   "source": [
    "# df.hist('Fuel Barrels/Year')\n",
    "\n",
    "data = df['Fuel Barrels/Year']\n",
    "\n",
    "# Plot the histogram\n",
    "plt.hist(data, bins=20, density=True, label=\"Histogram\")\n",
    "\n",
    "# Fit the data to a normal distribution and compute the PDF\n",
    "mean, std = norm.fit(data)  # Get the mean and standard deviation\n",
    "x = np.linspace(data.min(), data.max(), 1000)  # Generate x values\n",
    "pdf = norm.pdf(x, mean, std)  # Calculate the PDF\n",
    "\n",
    "# Plot the PDF as a line\n",
    "plt.plot(x, pdf, 'r-', label=f\"Normal Fit (Mean={mean:.2f}, Std={std:.2f})\")\n",
    "\n",
    "# Add labels and legend\n",
    "plt.title(\"Fuel Barrels/Year with Normal Distribution\")\n",
    "plt.xlabel(\"Fuel Barrels/Year\")\n",
    "plt.ylabel(\"Density\")\n",
    "\n",
    "# Show the plot\n",
    "plt.show()"
   ]
  },
  {
   "cell_type": "markdown",
   "metadata": {},
   "source": [
    "2. CO2 Emission Grams/Mile "
   ]
  },
  {
   "cell_type": "code",
   "execution_count": null,
   "metadata": {},
   "outputs": [],
   "source": [
    "data = df['CO2 Emission Grams/Mile']\n",
    "\n",
    "# Plot the histogram\n",
    "plt.hist(data, bins=20, density=True,  label=\"Histogram\")\n",
    "\n",
    "# Fit the data to a normal distribution and compute the PDF\n",
    "mean, std = norm.fit(data)  # Get the mean and standard deviation\n",
    "x = np.linspace(data.min(), data.max(), 1000)  # Generate x values\n",
    "pdf = norm.pdf(x, mean, std)  # Calculate the PDF\n",
    "\n",
    "# Plot the PDF as a line\n",
    "plt.plot(x, pdf, 'r-', label=f\"Normal Fit (Mean={mean:.2f}, Std={std:.2f})\")\n",
    "\n",
    "# Add labels and legend\n",
    "plt.title(\"CO2 Emission Grams/Mile with Distribution Line\")\n",
    "plt.xlabel(\"CO2 Emission Grams/Mile\")\n",
    "plt.ylabel(\"Density\")\n",
    "\n",
    "# Show the plot\n",
    "plt.show()"
   ]
  },
  {
   "cell_type": "markdown",
   "metadata": {},
   "source": [
    "3. Combined MPG"
   ]
  },
  {
   "cell_type": "code",
   "execution_count": null,
   "metadata": {},
   "outputs": [],
   "source": [
    "data = df['Combined MPG']\n",
    "\n",
    "# Plot the histogram\n",
    "plt.hist(data, bins=20, density=True,  label=\"Histogram\")\n",
    "\n",
    "# Fit the data to a normal distribution and compute the PDF\n",
    "mean, std = norm.fit(data)  # Get the mean and standard deviation\n",
    "x = np.linspace(data.min(), data.max(), 1000)  # Generate x values\n",
    "pdf = norm.pdf(x, mean, std)  # Calculate the PDF\n",
    "\n",
    "# Plot the PDF as a line\n",
    "plt.plot(x, pdf, 'r-', label=f\"Normal Fit (Mean={mean:.2f}, Std={std:.2f})\")\n",
    "\n",
    "# Add labels and legend\n",
    "plt.title(\"Combined MPG with Distribution Line\")\n",
    "plt.xlabel(\"MPG\")\n",
    "plt.ylabel(\"Density\")\n",
    "\n",
    "# Show the plot\n",
    "plt.show()"
   ]
  },
  {
   "cell_type": "markdown",
   "metadata": {},
   "source": [
    "Which one(s) of the variables are nearly normally distributed? How do you know?"
   ]
  },
  {
   "cell_type": "markdown",
   "metadata": {},
   "source": [
    "#### From the histograms, we can analyze which of the variables are nearly normally distributed:\n",
    "\n",
    "#### Variables:\n",
    "##### Fuel Barrels/Year:\n",
    "- The histogram shows a slight skew to the right, with a concentration of values on the left and a long tail extending to the right.\n",
    "- The red normal distribution line does not align well with the histogram, especially on the right side. This indicates that it is not normally distributed as it lacks symmetry.\n",
    "##### CO2 Emission Grams/Mile:\n",
    "- The histogram appears more symmetric and bell-shaped compared to the other variables.\n",
    "- The red normal distribution line closely aligns with the histogram, indicating a good fit to the normal distribution. While it is not perfectly symmetric, it is nearly normally distributed, as the data closely follows the normal distribution red line shape.\n",
    "##### Combined MPG:\n",
    "- The histogram shows a right-skewed distribution, with values concentrated on the lower end and a tail extending to the right.\n",
    "- The red normal distribution line does not align well, especially on the right side where the histogram has more density than the normal curve predicts. This indicates that it is not normally distributed as it is not symmetric.\n",
    "\n",
    "#### Conclusions:\n",
    "The variable CO2 Emission Grams/Mile is the closest to being normally distributed because its histogram shows a relatively symmetric, bell-shaped curve compared to the others. However, it is not a perfect normal distribution due to slight skewness."
   ]
  },
  {
   "cell_type": "markdown",
   "metadata": {},
   "source": [
    "## Exponential Distribution"
   ]
  },
  {
   "cell_type": "markdown",
   "metadata": {},
   "source": [
    "1. Using `numpy.random.exponential`, create a function that returns a list of numbers exponentially distributed with the mean of 10. \n",
    "\n",
    "1. Use the function to generate two number sequences with the size of 10 and 100.\n",
    "\n",
    "1. Plot the distributions as histograms with the nubmer of bins as 100.\n",
    "\n",
    "Your output should look like below:\n",
    "\n",
    "![exponential distribution](ed.png)"
   ]
  },
  {
   "cell_type": "code",
   "execution_count": null,
   "metadata": {},
   "outputs": [],
   "source": [
    "def generate_exponential_distribution(mean, size):\n",
    "    \"\"\"\n",
    "    Generate a list of numbers exponentially distributed with the given mean.\n",
    "    \"\"\"\n",
    "    scale = mean  # The scale parameter is the inverse of the rate (1/lambda)\n",
    "    return np.random.exponential(scale=scale, size=size)"
   ]
  },
  {
   "cell_type": "code",
   "execution_count": null,
   "metadata": {},
   "outputs": [],
   "source": [
    "# Generate two number sequences with size 10 and 100\n",
    "data_10 = generate_exponential_distribution(mean=10, size=1000)\n",
    "data_100 = generate_exponential_distribution(mean=100, size=1000)"
   ]
  },
  {
   "cell_type": "code",
   "execution_count": null,
   "metadata": {},
   "outputs": [],
   "source": [
    "from scipy.stats import expon\n",
    "\n",
    "# Plot histograms with bins=100\n",
    "plt.figure(figsize=(10, 5))\n",
    "\n",
    "# Histogram for the first sequence (size=10)\n",
    "plt.subplot(1, 2, 1)\n",
    "plt.hist(data_10, bins=100, density=True, label=\"Histogram\")\n",
    "\n",
    "x_10 = np.linspace(0, np.max(data_10), 1000)\n",
    "pdf_10 = expon.pdf(x_10, scale=10)  # PDF for mean=10\n",
    "plt.plot(x_10, pdf_10, 'r-', label=\"PDF (Mean=10)\")\n",
    "\n",
    "plt.title(\"Exponential Distribution (size=10)\")\n",
    "plt.xlabel(\"Value\")\n",
    "plt.ylabel(\"Frequency\")\n",
    "\n",
    "# Histogram for the second sequence (size=100)\n",
    "plt.subplot(1, 2, 2)\n",
    "plt.hist(data_100, bins=100, density=True, label=\"Histogram\")\n",
    "\n",
    "x_100 = np.linspace(0, np.max(data_100), 1000)\n",
    "pdf_100 = expon.pdf(x_100, scale=100)  # PDF for mean=100\n",
    "plt.plot(x_100, pdf_100, 'r-', label=\"PDF (Mean=100)\")\n",
    "\n",
    "plt.title(\"Exponential Distribution (size=100)\")\n",
    "plt.xlabel(\"Value\")\n",
    "\n",
    "# Adjust layout and show plot\n",
    "plt.tight_layout()\n",
    "plt.show()"
   ]
  },
  {
   "cell_type": "markdown",
   "metadata": {},
   "source": [
    "How are the two distributions different?"
   ]
  },
  {
   "cell_type": "markdown",
   "metadata": {},
   "source": [
    "The mean changes, so the distribution changes as well. "
   ]
  },
  {
   "cell_type": "markdown",
   "metadata": {},
   "source": [
    "Both distributions exhibit the characteristic exponential decay, where higher values occur less frequently. However, the right distribution has a slower decay rate due to the larger mean, while the left distribution decays more quickly.\n",
    "\n",
    "#### Left Distribution (size=10):\n",
    "- This distribution is generated with a smaller scale (mean = 10). The values are concentrated within a smaller range, roughly between 0 and 50.\n",
    "- The left distribution decays more quickly because it has a smaller mean (10). This results in more frequent occurrences of smaller values and a steeper decline in the histogram.\n",
    "- The left distribution has a smaller range and faster decay due to the smaller mean (scale=10).\n",
    "#### Right Distribution (size=100):\n",
    "- This distribution has a larger scale (mean = 100). The values are spread over a much larger range, extending beyond 800.\n",
    "- The right distribution decays more slowly due to the larger mean (100), resulting in a wider spread and less steep decline.\n",
    "- The right distribution has a larger range and slower decay due to the larger mean (scale=100).\n",
    "\n",
    "The red PDF line follows the characteristic exponential decay curve in both distributions. However, for the left distribution, the curve is steeper, while for the right distribution, the curve is broader and flatter."
   ]
  },
  {
   "cell_type": "markdown",
   "metadata": {},
   "source": [
    "## Exponential Distribution of Real Data\n",
    "\n",
    "Suppose that the amount of time one spends in a bank is exponentially distributed with mean as 10 minutes (i.e. λ = 1/10). What is the probability that a customer will spend less than fifteen minutes in the bank? \n",
    "\n",
    "Write a code in python to solve this problem"
   ]
  },
  {
   "cell_type": "code",
   "execution_count": null,
   "metadata": {},
   "outputs": [],
   "source": [
    "# Parameters\n",
    "mean = 10  # mean time in minutes\n",
    "lambda_rate = 1 / mean  # λ = 1/mean\n",
    "x = 15  # time in minutes"
   ]
  },
  {
   "cell_type": "code",
   "execution_count": null,
   "metadata": {
    "scrolled": true
   },
   "outputs": [],
   "source": [
    "# Calculate the probability of spending less than 15 minutes usign the CDF formula\n",
    "probability = 1 - math.exp(-lambda_rate * x)\n",
    "\n",
    "print(f\"The probability that a customer will spend less than 15 minutes in the bank is {probability:.4f}\")"
   ]
  },
  {
   "cell_type": "markdown",
   "metadata": {},
   "source": [
    "**This means there is approximately a 77.69% chance that a customer will spend less than 15 minutes in the bank.**"
   ]
  },
  {
   "cell_type": "markdown",
   "metadata": {},
   "source": [
    "What is the probability that the customer will spend more than 15 minutes"
   ]
  },
  {
   "cell_type": "code",
   "execution_count": null,
   "metadata": {},
   "outputs": [],
   "source": [
    "# Calculate the probability of spending more than 15 minutes\n",
    "probability_more_than_15 = 1 - probability\n",
    "\n",
    "print(f\"The probability that a customer will spend more than 15 minutes in the bank is {probability_more_than_15:.4f}\")"
   ]
  },
  {
   "cell_type": "markdown",
   "metadata": {},
   "source": [
    "**This means there is approximately a 22.31% chance that a customer will spend more than 15 minutes in the bank.**"
   ]
  }
 ],
 "metadata": {
  "kernelspec": {
   "display_name": "Python 3 (ipykernel)",
   "language": "python",
   "name": "python3"
  },
  "language_info": {
   "codemirror_mode": {
    "name": "ipython",
    "version": 3
   },
   "file_extension": ".py",
   "mimetype": "text/x-python",
   "name": "python",
   "nbconvert_exporter": "python",
   "pygments_lexer": "ipython3",
   "version": "3.12.7"
  }
 },
 "nbformat": 4,
 "nbformat_minor": 4
}
